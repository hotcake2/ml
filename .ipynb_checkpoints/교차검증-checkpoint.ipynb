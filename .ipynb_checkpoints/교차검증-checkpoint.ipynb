{
 "cells": [
  {
   "cell_type": "markdown",
   "id": "531e6c30",
   "metadata": {},
   "source": [
    "#### sklearn.model_selection.KFold\n",
    "* class sklearn.model_selection.KFold(n_splits=5, *, shuffle=False, random_state=None)"
   ]
  },
  {
   "cell_type": "code",
   "execution_count": 25,
   "id": "65d2b6bc",
   "metadata": {
    "ExecuteTime": {
     "end_time": "2022-09-29T02:36:24.073469Z",
     "start_time": "2022-09-29T02:36:24.056530Z"
    }
   },
   "outputs": [],
   "source": [
    "from sklearn.model_selection import KFold\n",
    "from sklearn.tree import DecisionTreeClassifier\n",
    "from sklearn.metrics import accuracy_score\n",
    "import numpy as np\n",
    "from sklearn.datasets import load_iris"
   ]
  },
  {
   "cell_type": "code",
   "execution_count": 30,
   "id": "c7855ecd",
   "metadata": {
    "ExecuteTime": {
     "end_time": "2022-09-29T02:46:41.765811Z",
     "start_time": "2022-09-29T02:46:41.737888Z"
    }
   },
   "outputs": [],
   "source": [
    "iris = load_iris() \n",
    "features = iris.data \n",
    "label = iris.target \n",
    "dt_clf = DecisionTreeClassifier(random_state=156)"
   ]
  },
  {
   "cell_type": "code",
   "execution_count": 43,
   "id": "c85c6fd4",
   "metadata": {
    "ExecuteTime": {
     "end_time": "2022-09-29T04:34:11.156785Z",
     "start_time": "2022-09-29T04:34:11.126867Z"
    },
    "scrolled": true
   },
   "outputs": [
    {
     "name": "stdout",
     "output_type": "stream",
     "text": [
      "[0.875, 0.9583, 1.0, 0.9167, 0.9583]\n"
     ]
    },
    {
     "data": {
      "text/plain": [
       "0.94166"
      ]
     },
     "execution_count": 43,
     "metadata": {},
     "output_type": "execute_result"
    }
   ],
   "source": [
    "from sklearn.model_selection import train_test_split\n",
    "\n",
    "X_train, X_test, y_train, y_test = train_test_split(features, label, test_size=0.2, random_state=11)\n",
    "\n",
    "kfold = KFold() \n",
    "cv_accuracy = []\n",
    "for i , j in kfold.split(X_train):\n",
    "#     print(f'train set: {i}')\n",
    "#     print(f'validation set: {j}')\n",
    "#     print('Wn')\n",
    "    train_X, test_X = X_train[i], X_train[j]\n",
    "    train_y, test_y = y_train[i], y_train[j]\n",
    "    \n",
    "    dt_clf.fit(train_X, train_y)\n",
    "    pred = dt_clf.predict(test_X)\n",
    "\n",
    "    accuray = np.round(accuracy_score(test_y, pred), 4)\n",
    "    cv_accuracy.append(accuray) \n",
    "    #print(accuray)\n",
    "print(cv_accuracy)\n",
    "np.mean(cv_accuracy)\n"
   ]
  },
  {
   "cell_type": "code",
   "execution_count": null,
   "id": "49b66a03",
   "metadata": {},
   "outputs": [],
   "source": [
    "append.list"
   ]
  },
  {
   "cell_type": "code",
   "execution_count": null,
   "id": "730aa635",
   "metadata": {},
   "outputs": [],
   "source": [
    "from sklearn.model_selection import train_test_split\n",
    "kfold = KFold(n_splits=3)\n",
    "cv_accuracy = []\n",
    "n_iter = 0\n",
    "\n",
    "for train_index , test_index in kfold.split(features):\n",
    "#     print(f\"train set :{i}\")\n",
    "#     print(f\"validation set :{j}\")\n",
    "#     print('\\n')\n",
    "    n_iter +=1\n",
    "    X_train , X_test = features[train_index] , features[test_index]\n",
    "    y_train , y_test = label[train_index] , label[test_index]\n",
    "    \n",
    "    dt_clf.fit(X_train, y_train)\n",
    "    pred = dt_clf.predict(X_test)\n",
    "    accuracy = np.round(accuracy_score(y_test,pred), 4)\n",
    "    print(f'\\n{n_iter}번째 정확도 {accuracy}  , 학습데이터 크기 {X_train.shape[0]}, 검증데이터 크기 {X_test.shape[0]}')\n",
    "    print(f'\\n {n_iter}번째 검증데이터 인덱스 {test_index} ')\n",
    "    cv_accuracy.append(accuracy)\n",
    "    \n",
    "#     print(accuracy)\n",
    "# print(cv_accuracy)\n",
    "# np.mean(cv_accuracy)"
   ]
  },
  {
   "cell_type": "markdown",
   "id": "85aa63dd",
   "metadata": {},
   "source": [
    "#### sklearn.model_selection.StratifiedKFold\n",
    "* lass sklearn.model_selection.StratifiedKFold(n_splits=5, *, shuffle=False, random_state=None)\n",
    "* split(X, y, groups=None)"
   ]
  },
  {
   "cell_type": "code",
   "execution_count": 61,
   "id": "aee41b20",
   "metadata": {
    "ExecuteTime": {
     "end_time": "2022-09-29T05:20:55.213062Z",
     "start_time": "2022-09-29T05:20:55.181146Z"
    }
   },
   "outputs": [
    {
     "name": "stdout",
     "output_type": "stream",
     "text": [
      "\n",
      "1번째 정확도 0.98  , 학습데이터 크기 100, 검증데이터 크기 50\n",
      "\n",
      " 1번째 검증데이터 인덱스 [  0   1   2   3   4   5   6   7   8   9  10  11  12  13  14  15  16  50\n",
      "  51  52  53  54  55  56  57  58  59  60  61  62  63  64  65  66 100 101\n",
      " 102 103 104 105 106 107 108 109 110 111 112 113 114 115] \n",
      "\n",
      "2번째 정확도 0.94  , 학습데이터 크기 100, 검증데이터 크기 50\n",
      "\n",
      " 2번째 검증데이터 인덱스 [ 17  18  19  20  21  22  23  24  25  26  27  28  29  30  31  32  33  67\n",
      "  68  69  70  71  72  73  74  75  76  77  78  79  80  81  82 116 117 118\n",
      " 119 120 121 122 123 124 125 126 127 128 129 130 131 132] \n",
      "\n",
      "3번째 정확도 0.98  , 학습데이터 크기 100, 검증데이터 크기 50\n",
      "\n",
      " 3번째 검증데이터 인덱스 [ 34  35  36  37  38  39  40  41  42  43  44  45  46  47  48  49  83  84\n",
      "  85  86  87  88  89  90  91  92  93  94  95  96  97  98  99 133 134 135\n",
      " 136 137 138 139 140 141 142 143 144 145 146 147 148 149] \n"
     ]
    },
    {
     "data": {
      "text/plain": [
       "0.9666666666666667"
      ]
     },
     "execution_count": 61,
     "metadata": {},
     "output_type": "execute_result"
    }
   ],
   "source": [
    "from sklearn.model_selection import StratifiedKFold\n",
    "\n",
    "sfk = StratifiedKFold(n_splits=3)\n",
    "cv_accuracy = []\n",
    "n_iter = 0\n",
    "\n",
    "for train_index , test_index in sfk.split(features, label):\n",
    "#     print(f'sadasdsad{features[train_index]}')\n",
    "    n_iter += 1\n",
    "    X_train , X_test = features[train_index] ,  features[test_index]\n",
    "    y_train , y_test = label[train_index] ,  label[test_index]\n",
    "    \n",
    "    dt_clf.fit(X_train, y_train)\n",
    "    pred = dt_clf.predict(X_test)\n",
    "    accuracy = np.round(accuracy_score(y_test,pred), 4)\n",
    "    print(f'\\n{n_iter}번째 정확도 {accuracy}  , 학습데이터 크기 {X_train.shape[0]}, 검증데이터 크기 {X_test.shape[0]}')\n",
    "    print(f'\\n {n_iter}번째 검증데이터 인덱스 {test_index} ')\n",
    "    cv_accuracy.append(ac\n",
    "                       curacy)\n",
    "    \n",
    "    \n",
    "#     print(accuracy)\n",
    "# print(cv_accuracy)\n",
    "np.mean(cv_accuracy)"
   ]
  },
  {
   "cell_type": "markdown",
   "id": "836e209f",
   "metadata": {},
   "source": [
    "#### sklearn.model_selection.cross_val_score\n",
    "* sklearn.model_selection.cross_val_score(estimator, X, y=None, *, groups=None, scoring=None, cv=None, n_jobs=None, verbose=0, fit_params=None, pre_dispatch='2*n_jobs', error_score=nan)\n",
    "\n",
    "\n",
    "* estimator 알고리즘,  X > feature,  y > lable, scoring > 정확도   ,cv > 몇 번 반복하겠느냐, n_jobs > 병렬 연산 "
   ]
  },
  {
   "cell_type": "code",
   "execution_count": 66,
   "id": "6a319e62",
   "metadata": {
    "ExecuteTime": {
     "end_time": "2022-09-29T06:11:26.435269Z",
     "start_time": "2022-09-29T06:11:26.409339Z"
    }
   },
   "outputs": [
    {
     "name": "stdout",
     "output_type": "stream",
     "text": [
      "교차 검증별 정확도: [0.98 0.94 0.98]\n",
      "평균 검증 정확도: 0.9667\n"
     ]
    }
   ],
   "source": [
    "from sklearn.tree import DecisionTreeClassifier\n",
    "from sklearn.model_selection import cross_val_score, cross_validate \n",
    "from sklearn.datasets import load_iris\n",
    "\n",
    "iris_data = load_iris()\n",
    "dt_clf = DecisionTreeClassifier(random_state=156)\n",
    "features = iris_data.data\n",
    "label = iris_data.target\n",
    "\n",
    "# 성능 지표는 정확도(Accuracy), 교차 검증 세트는 3개\n",
    "scores = cross_val_score(dt_clf, features, label, scoring='accuracy', cv=3)\n",
    "print(f'교차 검증별 정확도: {np.round(scores, 4)}')\n",
    "print(f'평균 검증 정확도: {np.round(np.mean(scores), 4)}')"
   ]
  },
  {
   "cell_type": "markdown",
   "id": "85e06eec",
   "metadata": {},
   "source": [
    "#### sklearn.model_selection.GridSearchCV\n",
    "* class sklearn.model_selection.GridSearchCV(estimator, param_grid, *, scoring=None, n_jobs=None, refit=True, cv=None, verbose=0, pre_dispatch='2*n_jobs', error_score=nan, return_train_score=False\n",
    "\n",
    "\n",
    "* estimator(string) : classifier, regressor, pipeline\n",
    "\n",
    "- param_grid(dict) : 사용될 파라미터명, 값 을 dict 형태로\n",
    "- hyper parameter :초매계변수. 최적의 파라미터를 찾아내는 것\n",
    "\n",
    "- scoring(string) : 예측 성능을 측정할 평가 방법 지정\n",
    "\n",
    "- cv(int) : 교차 검증을 위하 분할되는 학습/테스트 세트의 개수 지정\n",
    "\n",
    "- refit(bool) : true인 경우 최적의 하이퍼 파라미터를 찾은 후 입력된 개체를 해당 하이퍼 파라미터로 재학습"
   ]
  },
  {
   "cell_type": "code",
   "execution_count": 70,
   "id": "3b2cadd8",
   "metadata": {
    "ExecuteTime": {
     "end_time": "2022-09-29T06:43:02.164371Z",
     "start_time": "2022-09-29T06:43:02.080499Z"
    }
   },
   "outputs": [
    {
     "data": {
      "text/html": [
       "<div>\n",
       "<style scoped>\n",
       "    .dataframe tbody tr th:only-of-type {\n",
       "        vertical-align: middle;\n",
       "    }\n",
       "\n",
       "    .dataframe tbody tr th {\n",
       "        vertical-align: top;\n",
       "    }\n",
       "\n",
       "    .dataframe thead th {\n",
       "        text-align: right;\n",
       "    }\n",
       "</style>\n",
       "<table border=\"1\" class=\"dataframe\">\n",
       "  <thead>\n",
       "    <tr style=\"text-align: right;\">\n",
       "      <th></th>\n",
       "      <th>params</th>\n",
       "      <th>mean_test_score</th>\n",
       "      <th>rank_test_score</th>\n",
       "      <th>split0_test_score</th>\n",
       "      <th>split1_test_score</th>\n",
       "      <th>split2_test_score</th>\n",
       "    </tr>\n",
       "  </thead>\n",
       "  <tbody>\n",
       "    <tr>\n",
       "      <th>0</th>\n",
       "      <td>{'max_depth': 1, 'min_samples_split': 2}</td>\n",
       "      <td>0.700000</td>\n",
       "      <td>5</td>\n",
       "      <td>0.700</td>\n",
       "      <td>0.7</td>\n",
       "      <td>0.70</td>\n",
       "    </tr>\n",
       "    <tr>\n",
       "      <th>1</th>\n",
       "      <td>{'max_depth': 1, 'min_samples_split': 3}</td>\n",
       "      <td>0.700000</td>\n",
       "      <td>5</td>\n",
       "      <td>0.700</td>\n",
       "      <td>0.7</td>\n",
       "      <td>0.70</td>\n",
       "    </tr>\n",
       "    <tr>\n",
       "      <th>2</th>\n",
       "      <td>{'max_depth': 2, 'min_samples_split': 2}</td>\n",
       "      <td>0.958333</td>\n",
       "      <td>3</td>\n",
       "      <td>0.925</td>\n",
       "      <td>1.0</td>\n",
       "      <td>0.95</td>\n",
       "    </tr>\n",
       "    <tr>\n",
       "      <th>3</th>\n",
       "      <td>{'max_depth': 2, 'min_samples_split': 3}</td>\n",
       "      <td>0.958333</td>\n",
       "      <td>3</td>\n",
       "      <td>0.925</td>\n",
       "      <td>1.0</td>\n",
       "      <td>0.95</td>\n",
       "    </tr>\n",
       "    <tr>\n",
       "      <th>4</th>\n",
       "      <td>{'max_depth': 3, 'min_samples_split': 2}</td>\n",
       "      <td>0.975000</td>\n",
       "      <td>1</td>\n",
       "      <td>0.975</td>\n",
       "      <td>1.0</td>\n",
       "      <td>0.95</td>\n",
       "    </tr>\n",
       "    <tr>\n",
       "      <th>5</th>\n",
       "      <td>{'max_depth': 3, 'min_samples_split': 3}</td>\n",
       "      <td>0.975000</td>\n",
       "      <td>1</td>\n",
       "      <td>0.975</td>\n",
       "      <td>1.0</td>\n",
       "      <td>0.95</td>\n",
       "    </tr>\n",
       "  </tbody>\n",
       "</table>\n",
       "</div>"
      ],
      "text/plain": [
       "                                     params  mean_test_score  rank_test_score  \\\n",
       "0  {'max_depth': 1, 'min_samples_split': 2}         0.700000                5   \n",
       "1  {'max_depth': 1, 'min_samples_split': 3}         0.700000                5   \n",
       "2  {'max_depth': 2, 'min_samples_split': 2}         0.958333                3   \n",
       "3  {'max_depth': 2, 'min_samples_split': 3}         0.958333                3   \n",
       "4  {'max_depth': 3, 'min_samples_split': 2}         0.975000                1   \n",
       "5  {'max_depth': 3, 'min_samples_split': 3}         0.975000                1   \n",
       "\n",
       "   split0_test_score  split1_test_score  split2_test_score  \n",
       "0              0.700                0.7               0.70  \n",
       "1              0.700                0.7               0.70  \n",
       "2              0.925                1.0               0.95  \n",
       "3              0.925                1.0               0.95  \n",
       "4              0.975                1.0               0.95  \n",
       "5              0.975                1.0               0.95  "
      ]
     },
     "execution_count": 70,
     "metadata": {},
     "output_type": "execute_result"
    }
   ],
   "source": [
    "from sklearn.datasets import load_iris\n",
    "from sklearn.model_selection import GridSearchCV\n",
    "\n",
    "# 데이터를 로딩하고 학습데이터와 테스트 데이터 분리\n",
    "\n",
    "iris = load_iris()\n",
    "X_train, X_test, y_train, y_test = train_test_split(iris_data.data, iris_data.target, test_size=0.2, random_state=121)\n",
    "dtree = DecisionTreeClassifier()\n",
    "\n",
    "# parameter들을 dictionary형태로 설정 \n",
    "\n",
    "parameters = {'max_depth' : [1,2,3], 'min_samples_split' : [2,3]}\n",
    "grid_dtree = GridSearchCV(dtree, param_grid=parameters, cv=3, refit=True)\n",
    "\n",
    "# 붓꽃 Train 데이터로 param_grid의 하이퍼 파라미터들을 순차적으로 학습/평가\n",
    "\n",
    "grid_dtree.fit(X_train, y_train)\n",
    "\n",
    "# GridSearchCV 결과 추출하여 DataFrame으로 변환\n",
    "\n",
    "scores_df = pd.DataFrame(grid_dtree.cv_results_)\n",
    "\n",
    "scores_df[['params', 'mean_test_score', 'rank_test_score', \\\n",
    "           'split0_test_score', 'split1_test_score', 'split2_test_score']]"
   ]
  },
  {
   "cell_type": "code",
   "execution_count": 73,
   "id": "0fee0e34",
   "metadata": {
    "ExecuteTime": {
     "end_time": "2022-09-29T06:56:07.770546Z",
     "start_time": "2022-09-29T06:56:07.751597Z"
    },
    "scrolled": true
   },
   "outputs": [
    {
     "name": "stdout",
     "output_type": "stream",
     "text": [
      "테스트 데이터 세트 정확도; 0.9667\n"
     ]
    }
   ],
   "source": [
    "estimator = grid_dtree.best_estimator_\n",
    "\n",
    "pred = estimator.predict(X_test)\n",
    "print('테스트 데이터 세트 정확도; {0:.4f}'.format(accuracy_score(y_test, pred)))"
   ]
  },
  {
   "cell_type": "markdown",
   "id": "add6c2c9",
   "metadata": {},
   "source": [
    "#### sklearn.datasets.make_classification\n",
    "*sklearn.datasets.make_classification(n_samples=100, n_features=20, *, n_informative=2, n_redundant=2, n_repeated=0, n_classes=2, n_clusters_per_class=2, weights=None, flip_y=0.01, class_sep=1.0, hypercube=True, shift=0.0, scale=1.0, shuffle=True, random_state=None)"
   ]
  },
  {
   "cell_type": "code",
   "execution_count": 80,
   "id": "e56590a1",
   "metadata": {
    "ExecuteTime": {
     "end_time": "2022-09-29T07:50:13.620250Z",
     "start_time": "2022-09-29T07:50:12.628258Z"
    }
   },
   "outputs": [],
   "source": [
    "from sklearn.datasets import make_classification\n",
    "import matplotlib.pyplot as plt\n",
    "\n"
   ]
  },
  {
   "cell_type": "code",
   "execution_count": 83,
   "id": "c42392e9",
   "metadata": {
    "ExecuteTime": {
     "end_time": "2022-09-29T07:50:50.025468Z",
     "start_time": "2022-09-29T07:50:49.821061Z"
    }
   },
   "outputs": [
    {
     "name": "stdout",
     "output_type": "stream",
     "text": [
      "300\n",
      "[[ 1.44376956  0.33838381]\n",
      " [-0.97372858 -1.15643418]\n",
      " [-0.8084432  -1.17345151]\n",
      " [-0.98852958 -0.8140137 ]\n",
      " [-1.00194335 -1.17539771]\n",
      " [ 0.48908494  2.90355527]\n",
      " [ 0.29005246  1.32068778]\n",
      " [ 0.60959554  0.5789389 ]\n",
      " [-1.33804333 -0.66975591]\n",
      " [ 2.61511115  0.29713169]\n",
      " [-0.09384868  2.10927158]\n",
      " [-0.76723702 -2.61297156]\n",
      " [ 1.91996933  0.05862907]\n",
      " [ 0.41980661 -0.29133645]\n",
      " [ 0.26861071  2.04652145]\n",
      " [ 0.41715428  1.26076831]\n",
      " [-1.28378623  0.74058464]\n",
      " [ 2.17316164  1.00242302]\n",
      " [-0.84217238 -1.97381881]\n",
      " [-1.27987526 -0.71191521]\n",
      " [-0.46963464  1.2865051 ]\n",
      " [-0.57156791 -0.60899893]\n",
      " [ 1.1989128  -0.61774589]\n",
      " [-0.44258537  1.39445338]\n",
      " [-1.11378828  0.32548967]\n",
      " [ 0.09752664  1.39414254]\n",
      " [-1.10277128 -0.57437746]\n",
      " [-0.40884567  1.12358354]\n",
      " [-1.41622254  0.90580958]\n",
      " [ 0.11162281  1.23770966]\n",
      " [ 0.33858252  0.61427684]\n",
      " [-0.55065403  1.37291688]\n",
      " [-1.96025564  0.63151213]\n",
      " [-0.91424743  0.9889955 ]\n",
      " [ 0.85717703  0.66598996]\n",
      " [ 0.41608686  0.64939774]\n",
      " [-1.55042626  0.7288915 ]\n",
      " [-1.46202029  0.83469961]\n",
      " [-1.20917008  0.82787806]\n",
      " [ 1.25705301  0.40459972]\n",
      " [-0.36440247  2.42717743]\n",
      " [-0.87095482 -3.00468   ]\n",
      " [ 0.2863967   1.4958332 ]\n",
      " [-1.65580986  0.56811368]\n",
      " [-1.01807212 -2.12231857]\n",
      " [ 1.20122186  0.5102789 ]\n",
      " [-1.08874532  0.9813983 ]\n",
      " [-1.28288822  0.84886703]\n",
      " [ 1.49803605  1.23743184]\n",
      " [-0.95512887 -0.44414636]\n",
      " [-1.8546842   0.45607439]\n",
      " [ 0.1980065   1.55139327]\n",
      " [-1.08303357 -0.13313242]\n",
      " [-1.52293804  0.89731975]\n",
      " [ 1.04008213 -1.23969321]\n",
      " [-1.21306535 -0.19493964]\n",
      " [ 0.82175007  0.03092509]\n",
      " [ 1.18425664 -1.25293391]\n",
      " [-0.8922031  -1.6139022 ]\n",
      " [-0.91198729 -1.43862561]\n",
      " [-1.15359696 -0.20988006]\n",
      " [-2.05654971  0.53798312]\n",
      " [ 1.28106343  1.35713128]\n",
      " [-0.68982838 -2.78319232]\n",
      " [ 2.28108894  0.65904948]\n",
      " [-1.06700867  0.90580732]\n",
      " [-0.9015986   1.00738561]\n",
      " [ 0.07372452  2.96178297]\n",
      " [-0.46794041  0.85621084]\n",
      " [ 0.93566098  1.10229527]\n",
      " [-1.28530645 -0.94347951]\n",
      " [-0.71092092  1.18850762]\n",
      " [ 1.49256118  1.04735243]\n",
      " [-0.86430478  0.94712927]\n",
      " [-1.70790162  0.67918421]\n",
      " [-1.03403836  0.89430933]\n",
      " [-0.75506184 -1.23163042]\n",
      " [-1.11428107 -1.17339304]\n",
      " [-1.63579119  0.56199185]\n",
      " [ 0.24035548  1.26799136]\n",
      " [-0.55737402  1.14879039]\n",
      " [-0.99062229  0.52444212]\n",
      " [ 1.00094483 -0.50063037]\n",
      " [-1.32382414  0.74093465]\n",
      " [-0.10222218  1.54737883]\n",
      " [-1.1223929  -0.3535725 ]\n",
      " [-0.23385973  2.09182164]\n",
      " [-1.16724238 -0.91566184]\n",
      " [-0.92876482 -1.75296199]\n",
      " [ 1.80884131  1.09716665]\n",
      " [-0.82993669 -1.46439135]\n",
      " [ 0.54081915  2.03520692]\n",
      " [-1.6682347   0.89150957]\n",
      " [-0.88796498 -1.86047376]\n",
      " [-1.53266063  0.946352  ]\n",
      " [-0.79646118 -1.9304773 ]\n",
      " [-1.15144276  0.98510967]\n",
      " [-0.24435993  1.23344378]\n",
      " [-0.76864824 -1.60324795]\n",
      " [-1.09109367  1.04696337]\n",
      " [ 0.70070332  1.52743908]\n",
      " [-0.95107473 -1.09857216]\n",
      " [ 0.52200194  1.50586293]\n",
      " [-0.12419117  1.31298061]\n",
      " [-0.91239555 -1.43539706]\n",
      " [-1.11944142  1.12447607]\n",
      " [-0.9676836   0.9714643 ]\n",
      " [-1.50813706  0.64188094]\n",
      " [-0.86743747 -1.91348053]\n",
      " [ 2.27258977  0.31859298]\n",
      " [-1.01928017 -0.35713138]\n",
      " [-0.20869463  1.52661379]\n",
      " [-0.93345976 -1.10540672]\n",
      " [ 2.06258058  1.07331839]\n",
      " [-1.16769088  0.94162406]\n",
      " [-1.04472338 -1.40991094]\n",
      " [-0.94546847 -0.79649734]\n",
      " [-0.67499571 -1.35805383]\n",
      " [ 1.53443906  1.04504267]\n",
      " [-0.94872457 -1.82942894]\n",
      " [-1.13296272 -0.66982712]\n",
      " [-0.18504421  1.37062313]\n",
      " [ 3.26130594  1.16345766]\n",
      " [ 0.7424801   0.12244704]\n",
      " [-1.40036062  0.86632218]\n",
      " [ 0.00487544  1.56718781]\n",
      " [-1.33351595  0.31636372]\n",
      " [ 0.67070552  1.39925133]\n",
      " [-0.11634798  1.34526139]\n",
      " [ 1.39232013  0.45364311]\n",
      " [-0.75537866  1.10031656]\n",
      " [ 1.36658634  0.22464058]\n",
      " [ 0.78567861  1.90058635]\n",
      " [-0.54630193  0.98841618]\n",
      " [ 0.91291025  0.45925858]\n",
      " [-1.12431789  0.49603265]\n",
      " [-0.99614568  0.91383076]\n",
      " [-1.04096203 -2.06337394]\n",
      " [-1.06062782  0.86117518]\n",
      " [-1.15853211 -0.96458767]\n",
      " [ 1.577455    0.27081135]\n",
      " [ 1.68632398 -0.5292148 ]\n",
      " [ 1.13518271  1.24260338]\n",
      " [-1.35657558  0.52321827]\n",
      " [ 1.21071957  0.66369541]\n",
      " [ 0.19554319  1.26348874]\n",
      " [-1.00269542 -0.95901254]\n",
      " [ 1.04140649  2.13892135]\n",
      " [-0.91899785 -2.0702313 ]\n",
      " [-1.37747201  0.80551764]\n",
      " [-1.78603356  0.56450387]\n",
      " [-0.88832475 -1.2960694 ]\n",
      " [ 1.08605384  1.33492805]\n",
      " [ 1.88654963  1.77728997]\n",
      " [ 0.8955827   0.23541834]\n",
      " [-0.90222192 -1.45481743]\n",
      " [ 1.76824053  0.79822198]\n",
      " [ 0.88074117  0.94113001]\n",
      " [-0.69364814 -3.14247675]\n",
      " [-1.02117984  0.18452059]\n",
      " [-1.3890013   0.95399066]\n",
      " [ 0.35774719  0.97340959]\n",
      " [-1.92988304  0.52111036]\n",
      " [-0.78691881 -0.81994022]\n",
      " [-1.26958549  0.71980244]\n",
      " [-0.92164863 -1.78581806]\n",
      " [ 0.07221512  1.40982684]\n",
      " [-0.80367286 -1.97504707]\n",
      " [-0.65510814  1.17271864]\n",
      " [ 1.79853548  0.76950036]\n",
      " [-0.3928644   1.17590476]\n",
      " [-0.07902284  1.28930785]\n",
      " [ 1.18879755  1.21667016]\n",
      " [-0.43045687  1.12787324]\n",
      " [-0.93918451 -1.90486947]\n",
      " [-1.70910765  3.98835284]\n",
      " [-1.11158159  1.1278808 ]\n",
      " [ 1.65440407  0.09975175]\n",
      " [-1.01902804 -0.56365444]\n",
      " [-1.43605379  0.77381537]\n",
      " [-0.99636199  0.09635597]\n",
      " [ 0.42770574 -0.33609051]\n",
      " [-1.19654165  0.85580155]\n",
      " [-1.14812139  1.02169244]\n",
      " [-1.19386559  0.91389287]\n",
      " [-1.35295368  0.4471776 ]\n",
      " [-0.41592767  1.30722819]\n",
      " [ 0.9219589   0.79364566]\n",
      " [-1.73059035  0.85606808]\n",
      " [ 0.85905655  0.53608659]\n",
      " [-0.75008324 -1.20411037]\n",
      " [-1.11535125 -0.08149612]\n",
      " [-0.82456615 -1.00397146]\n",
      " [ 1.28340724  0.44825074]\n",
      " [-0.97088831 -1.76449349]\n",
      " [-0.7926603   0.96029377]\n",
      " [-1.95087306  0.58547235]\n",
      " [-1.46860229  0.89033879]\n",
      " [-0.78968659  0.16162895]\n",
      " [-1.07150063 -1.30674556]\n",
      " [-1.97719947  0.46501702]\n",
      " [ 0.45022537  0.88056715]\n",
      " [ 1.39359014  0.42343194]\n",
      " [ 0.40835124  1.96477021]\n",
      " [ 2.38910903  1.22596137]\n",
      " [-0.62502084  1.14892009]\n",
      " [-1.01203555 -1.66915249]\n",
      " [ 0.79817688  1.36172301]\n",
      " [-1.35167495 -1.22275584]\n",
      " [-0.70672253 -1.54897178]\n",
      " [-0.97063603 -1.82205397]\n",
      " [-1.36078919  0.70718294]\n",
      " [ 1.15400242  0.41205882]\n",
      " [-0.76842291  1.10590023]\n",
      " [-1.26845145 -0.14226065]\n",
      " [-0.20540197  1.38686531]\n",
      " [-0.77432432  1.0818131 ]\n",
      " [-0.82138138  0.99792806]\n",
      " [ 1.61443833  0.99221459]\n",
      " [-1.12362349  0.79210748]\n",
      " [ 1.26402484  0.32378353]\n",
      " [-1.04845531 -1.29026121]\n",
      " [-1.63567437  0.90481714]\n",
      " [-0.64242243  1.06542265]\n",
      " [-1.26332287 -1.4976461 ]\n",
      " [-1.2841214   0.73891885]\n",
      " [-1.0013148  -1.96179456]\n",
      " [-0.77477566 -2.17631349]\n",
      " [-0.92749116 -0.83589559]\n",
      " [-0.01801035  1.227484  ]\n",
      " [-0.80339911  0.87289106]\n",
      " [-0.33121846  1.33579487]\n",
      " [ 1.22471355  1.40222226]\n",
      " [-0.81999097  1.12736959]\n",
      " [-1.10937668  0.79912287]\n",
      " [-1.00521664 -1.84563877]\n",
      " [-0.58154441  1.11017417]\n",
      " [-1.31971847 -0.18288974]\n",
      " [ 0.92230716  1.77591262]\n",
      " [-0.8084734   1.25693966]\n",
      " [-0.78560685 -0.54586986]\n",
      " [ 0.7132969   0.25274521]\n",
      " [-1.48925955  0.73667101]\n",
      " [-0.79585457 -2.14717856]\n",
      " [-1.03314832 -1.65542732]\n",
      " [-1.0046367   1.14559843]\n",
      " [-1.83406585  0.33068901]\n",
      " [ 0.98825109  2.63466691]\n",
      " [ 0.75153128  1.87592359]\n",
      " [-1.0571494   1.10337977]\n",
      " [ 0.67610573  0.6046654 ]\n",
      " [ 1.10038852 -0.67205931]\n",
      " [-1.27603725 -0.21905449]\n",
      " [-0.58236592  1.14016958]\n",
      " [-1.07767695  0.99902313]\n",
      " [-0.88769919 -1.73546804]\n",
      " [-0.13426901  0.78599669]\n",
      " [-1.27510127 -0.63424776]\n",
      " [-1.00675159  1.05858252]\n",
      " [-0.95814883  0.96850254]\n",
      " [-0.92882478 -1.2608288 ]\n",
      " [ 1.25297062  1.45281216]\n",
      " [-0.78820004 -1.66198491]\n",
      " [ 1.13271836  1.67910729]\n",
      " [ 1.19295314  1.68039428]\n",
      " [-0.47580896  1.17687334]\n",
      " [ 1.65180679  0.61286655]\n",
      " [-0.00652451  1.75146346]\n",
      " [-1.11231731 -0.82834147]\n",
      " [-1.32933237  0.76362687]\n",
      " [-1.46961534  0.75137151]\n",
      " [-0.06132319  1.15772406]\n",
      " [ 1.46647348  1.15084992]\n",
      " [-0.78832979 -1.71561326]\n",
      " [-1.02818914 -1.60412903]\n",
      " [ 0.57285231  1.45625071]\n",
      " [-0.00734542  1.51138074]\n",
      " [-1.09945752 -0.304688  ]\n",
      " [ 1.41725752  0.66149518]\n",
      " [ 0.10793093  1.35283897]\n",
      " [ 1.19300909  0.76990774]\n",
      " [-0.92644166  1.27621558]\n",
      " [-0.9517675  -1.44148782]\n",
      " [-0.60854752  1.22310885]\n",
      " [-1.41773853  0.91876651]\n",
      " [-1.94742516  0.62298932]\n",
      " [ 1.64785496  0.18690119]\n",
      " [-1.04239013 -2.58959235]\n",
      " [-1.74024914  0.764254  ]\n",
      " [-0.91553635  1.06634394]\n",
      " [-1.15387364 -0.35816503]\n",
      " [-1.38459277  0.82938329]\n",
      " [-0.99014901 -2.46323526]\n",
      " [-1.0405297  -0.34753143]\n",
      " [-1.28338976 -0.49943446]\n",
      " [-0.62350196 -2.55754263]\n",
      " [-1.20270461 -0.3536301 ]\n",
      " [ 0.67318518  1.71729742]\n",
      " [-1.02565265 -1.83930324]\n",
      " [-1.65557349  0.67198677]]\n",
      "[1 2 2 2 2 1 1 1 2 1 1 2 1 1 1 1 0 1 2 2 0 2 1 0 2 0 2 0 0 1 1 0 0 0 1 1 0\n",
      " 0 0 1 1 2 1 0 2 1 0 0 1 2 0 1 2 0 1 2 1 1 2 2 2 0 1 2 1 2 0 1 1 1 2 1 1 0\n",
      " 0 0 2 2 0 1 0 2 1 0 0 2 1 2 2 1 2 1 0 2 0 2 0 0 2 0 1 2 1 0 2 0 0 0 2 1 2\n",
      " 1 2 1 0 2 2 2 1 2 2 0 1 1 0 0 2 1 0 1 0 1 1 0 1 2 0 2 0 2 1 1 1 2 1 1 2 1\n",
      " 2 0 0 2 1 1 1 2 1 1 2 2 0 1 0 2 0 2 1 2 0 1 0 1 1 0 2 1 0 1 2 0 2 1 0 0 0\n",
      " 2 0 1 0 1 2 2 2 1 2 0 0 0 2 2 0 1 1 1 1 0 2 1 2 2 2 0 1 0 2 0 0 0 1 0 1 2\n",
      " 0 0 2 0 2 2 2 0 0 1 1 0 2 2 0 2 1 0 2 1 0 2 2 0 0 1 1 0 1 1 2 0 0 2 1 2 0\n",
      " 0 2 1 2 1 1 0 1 1 2 0 0 0 1 2 2 1 0 2 1 0 1 0 2 0 0 0 1 2 0 0 2 0 2 2 2 2\n",
      " 2 1 2 0]\n"
     ]
    },
    {
     "name": "stderr",
     "output_type": "stream",
     "text": [
      "c:\\users\\ttbb\\appdata\\local\\programs\\python\\python38\\lib\\site-packages\\IPython\\core\\events.py:89: UserWarning: Glyph 45796 (\\N{HANGUL SYLLABLE DA}) missing from current font.\n",
      "  func(*args, **kwargs)\n",
      "c:\\users\\ttbb\\appdata\\local\\programs\\python\\python38\\lib\\site-packages\\IPython\\core\\events.py:89: UserWarning: Glyph 51473 (\\N{HANGUL SYLLABLE JUNG}) missing from current font.\n",
      "  func(*args, **kwargs)\n",
      "c:\\users\\ttbb\\appdata\\local\\programs\\python\\python38\\lib\\site-packages\\IPython\\core\\events.py:89: UserWarning: Glyph 53364 (\\N{HANGUL SYLLABLE KEUL}) missing from current font.\n",
      "  func(*args, **kwargs)\n",
      "c:\\users\\ttbb\\appdata\\local\\programs\\python\\python38\\lib\\site-packages\\IPython\\core\\events.py:89: UserWarning: Glyph 47000 (\\N{HANGUL SYLLABLE RAE}) missing from current font.\n",
      "  func(*args, **kwargs)\n",
      "c:\\users\\ttbb\\appdata\\local\\programs\\python\\python38\\lib\\site-packages\\IPython\\core\\events.py:89: UserWarning: Glyph 49828 (\\N{HANGUL SYLLABLE SEU}) missing from current font.\n",
      "  func(*args, **kwargs)\n",
      "c:\\users\\ttbb\\appdata\\local\\programs\\python\\python38\\lib\\site-packages\\IPython\\core\\pylabtools.py:151: UserWarning: Glyph 45796 (\\N{HANGUL SYLLABLE DA}) missing from current font.\n",
      "  fig.canvas.print_figure(bytes_io, **kw)\n",
      "c:\\users\\ttbb\\appdata\\local\\programs\\python\\python38\\lib\\site-packages\\IPython\\core\\pylabtools.py:151: UserWarning: Glyph 51473 (\\N{HANGUL SYLLABLE JUNG}) missing from current font.\n",
      "  fig.canvas.print_figure(bytes_io, **kw)\n",
      "c:\\users\\ttbb\\appdata\\local\\programs\\python\\python38\\lib\\site-packages\\IPython\\core\\pylabtools.py:151: UserWarning: Glyph 53364 (\\N{HANGUL SYLLABLE KEUL}) missing from current font.\n",
      "  fig.canvas.print_figure(bytes_io, **kw)\n",
      "c:\\users\\ttbb\\appdata\\local\\programs\\python\\python38\\lib\\site-packages\\IPython\\core\\pylabtools.py:151: UserWarning: Glyph 47000 (\\N{HANGUL SYLLABLE RAE}) missing from current font.\n",
      "  fig.canvas.print_figure(bytes_io, **kw)\n",
      "c:\\users\\ttbb\\appdata\\local\\programs\\python\\python38\\lib\\site-packages\\IPython\\core\\pylabtools.py:151: UserWarning: Glyph 49828 (\\N{HANGUL SYLLABLE SEU}) missing from current font.\n",
      "  fig.canvas.print_figure(bytes_io, **kw)\n"
     ]
    },
    {
     "data": {
      "image/png": "[encoded data removed]",
      "text/plain": [
       "<Figure size 640x480 with 1 Axes>"
      ]
     },
     "metadata": {},
     "output_type": "display_data"
    }
   ],
   "source": [
    "plt.title(\"다중 클래스\")\n",
    "#flip_y 매개변수를 이용한 노이즈 추가\n",
    "X, y = make_classification(n_samples=300,\n",
    "                           n_features=2, \n",
    "                           n_informative=2,\n",
    "                           n_redundant=0, \n",
    "                           n_clusters_per_class=1, \n",
    "                           random_state=42,\n",
    "                           n_classes=3\n",
    "                          )\n",
    "\n",
    "print(len(X))\n",
    "print(X)\n",
    "print(y)"
   ]
  },
  {
   "cell_type": "code",
   "execution_count": 84,
   "id": "71438183",
   "metadata": {
    "ExecuteTime": {
     "end_time": "2022-09-29T07:55:14.914217Z",
     "start_time": "2022-09-29T07:55:14.866345Z"
    }
   },
   "outputs": [
    {
     "name": "stdout",
     "output_type": "stream",
     "text": [
      "테스트 데이터 세트 정확도; 0.9500\n"
     ]
    }
   ],
   "source": [
    "\n",
    "X_train, X_test, y_train, y_test = train_test_split(X, y, test_size=0.2, random_state=121)\n",
    "dtree = DecisionTreeClassifier()\n",
    "\n",
    "# parameter들을 dictionary형태로 설정 \n",
    "\n",
    "parameters = {'max_depth' : [1,2,3], 'min_samples_split' : [2,3]}\n",
    "grid_dtree = GridSearchCV(dtree, param_grid=parameters, cv=3, refit=True)\n",
    "\n",
    "grid_dtree.fit(X_train, y_train)\n",
    "\n",
    "# GridSearchCV 결과 추출하여 DataFrame으로 변환\n",
    "\n",
    "scores_df = pd.DataFrame(grid_dtree.cv_results_)\n",
    "\n",
    "scores_df[['params', 'mean_test_score', 'rank_test_score', \\\n",
    "           'split0_test_score', 'split1_test_score', 'split2_test_score']]\n",
    "\n",
    "estimator = grid_dtree.best_estimator_\n",
    "\n",
    "pred = estimator.predict(X_test)\n",
    "print('테스트 데이터 세트 정확도; {0:.4f}'.format(accuracy_score(y_test, pred)))"
   ]
  },
  {
   "cell_type": "code",
   "execution_count": 87,
   "id": "cdbdbbe9",
   "metadata": {
    "ExecuteTime": {
     "end_time": "2022-09-29T08:00:28.552690Z",
     "start_time": "2022-09-29T08:00:28.540722Z"
    }
   },
   "outputs": [],
   "source": [
    "pred = grid_dtree.predict(X_test)"
   ]
  },
  {
   "cell_type": "code",
   "execution_count": 88,
   "id": "15c8ffe6",
   "metadata": {
    "ExecuteTime": {
     "end_time": "2022-09-29T08:01:06.151605Z",
     "start_time": "2022-09-29T08:01:06.131597Z"
    }
   },
   "outputs": [
    {
     "data": {
      "text/plain": [
       "0.95"
      ]
     },
     "execution_count": 88,
     "metadata": {},
     "output_type": "execute_result"
    }
   ],
   "source": [
    "accuracy_score(y_test, pred)"
   ]
  },
  {
   "cell_type": "code",
   "execution_count": 94,
   "id": "5cffdba1",
   "metadata": {
    "ExecuteTime": {
     "end_time": "2022-09-29T08:22:38.576436Z",
     "start_time": "2022-09-29T08:22:38.530560Z"
    }
   },
   "outputs": [
    {
     "data": {
      "text/html": [
       "<div>\n",
       "<style scoped>\n",
       "    .dataframe tbody tr th:only-of-type {\n",
       "        vertical-align: middle;\n",
       "    }\n",
       "\n",
       "    .dataframe tbody tr th {\n",
       "        vertical-align: top;\n",
       "    }\n",
       "\n",
       "    .dataframe thead th {\n",
       "        text-align: right;\n",
       "    }\n",
       "</style>\n",
       "<table border=\"1\" class=\"dataframe\">\n",
       "  <thead>\n",
       "    <tr style=\"text-align: right;\">\n",
       "      <th></th>\n",
       "      <th>Pregnancies</th>\n",
       "      <th>Glucose</th>\n",
       "      <th>BloodPressure</th>\n",
       "      <th>SkinThickness</th>\n",
       "      <th>Insulin</th>\n",
       "      <th>BMI</th>\n",
       "      <th>DiabetesPedigreeFunction</th>\n",
       "      <th>Age</th>\n",
       "      <th>Outcome</th>\n",
       "    </tr>\n",
       "  </thead>\n",
       "  <tbody>\n",
       "    <tr>\n",
       "      <th>0</th>\n",
       "      <td>6</td>\n",
       "      <td>148</td>\n",
       "      <td>72</td>\n",
       "      <td>35</td>\n",
       "      <td>0</td>\n",
       "      <td>33.6</td>\n",
       "      <td>0.627</td>\n",
       "      <td>50</td>\n",
       "      <td>1</td>\n",
       "    </tr>\n",
       "    <tr>\n",
       "      <th>1</th>\n",
       "      <td>1</td>\n",
       "      <td>85</td>\n",
       "      <td>66</td>\n",
       "      <td>29</td>\n",
       "      <td>0</td>\n",
       "      <td>26.6</td>\n",
       "      <td>0.351</td>\n",
       "      <td>31</td>\n",
       "      <td>0</td>\n",
       "    </tr>\n",
       "    <tr>\n",
       "      <th>2</th>\n",
       "      <td>8</td>\n",
       "      <td>183</td>\n",
       "      <td>64</td>\n",
       "      <td>0</td>\n",
       "      <td>0</td>\n",
       "      <td>23.3</td>\n",
       "      <td>0.672</td>\n",
       "      <td>32</td>\n",
       "      <td>1</td>\n",
       "    </tr>\n",
       "  </tbody>\n",
       "</table>\n",
       "</div>"
      ],
      "text/plain": [
       "   Pregnancies  Glucose  BloodPressure  SkinThickness  Insulin   BMI  \\\n",
       "0            6      148             72             35        0  33.6   \n",
       "1            1       85             66             29        0  26.6   \n",
       "2            8      183             64              0        0  23.3   \n",
       "\n",
       "   DiabetesPedigreeFunction  Age  Outcome  \n",
       "0                     0.627   50        1  \n",
       "1                     0.351   31        0  \n",
       "2                     0.672   32        1  "
      ]
     },
     "execution_count": 94,
     "metadata": {},
     "output_type": "execute_result"
    }
   ],
   "source": [
    "import pandas as pd\n",
    "\n",
    "diabet_df = pd.read_csv('./datasets/diabetes.csv')\n",
    "diabet_df.head(3)\n",
    "\n"
   ]
  },
  {
   "cell_type": "code",
   "execution_count": 95,
   "id": "d99e93fd",
   "metadata": {
    "ExecuteTime": {
     "end_time": "2022-09-29T08:23:34.308466Z",
     "start_time": "2022-09-29T08:23:34.249624Z"
    }
   },
   "outputs": [
    {
     "data": {
      "text/html": [
       "<div>\n",
       "<style scoped>\n",
       "    .dataframe tbody tr th:only-of-type {\n",
       "        vertical-align: middle;\n",
       "    }\n",
       "\n",
       "    .dataframe tbody tr th {\n",
       "        vertical-align: top;\n",
       "    }\n",
       "\n",
       "    .dataframe thead th {\n",
       "        text-align: right;\n",
       "    }\n",
       "</style>\n",
       "<table border=\"1\" class=\"dataframe\">\n",
       "  <thead>\n",
       "    <tr style=\"text-align: right;\">\n",
       "      <th></th>\n",
       "      <th>Pregnancies</th>\n",
       "      <th>Glucose</th>\n",
       "      <th>BloodPressure</th>\n",
       "      <th>SkinThickness</th>\n",
       "      <th>Insulin</th>\n",
       "      <th>BMI</th>\n",
       "      <th>DiabetesPedigreeFunction</th>\n",
       "      <th>Age</th>\n",
       "      <th>Outcome</th>\n",
       "    </tr>\n",
       "  </thead>\n",
       "  <tbody>\n",
       "    <tr>\n",
       "      <th>count</th>\n",
       "      <td>768.000000</td>\n",
       "      <td>768.000000</td>\n",
       "      <td>768.000000</td>\n",
       "      <td>768.000000</td>\n",
       "      <td>768.000000</td>\n",
       "      <td>768.000000</td>\n",
       "      <td>768.000000</td>\n",
       "      <td>768.000000</td>\n",
       "      <td>768.000000</td>\n",
       "    </tr>\n",
       "    <tr>\n",
       "      <th>mean</th>\n",
       "      <td>3.845052</td>\n",
       "      <td>120.894531</td>\n",
       "      <td>69.105469</td>\n",
       "      <td>20.536458</td>\n",
       "      <td>79.799479</td>\n",
       "      <td>31.992578</td>\n",
       "      <td>0.471876</td>\n",
       "      <td>33.240885</td>\n",
       "      <td>0.348958</td>\n",
       "    </tr>\n",
       "    <tr>\n",
       "      <th>std</th>\n",
       "      <td>3.369578</td>\n",
       "      <td>31.972618</td>\n",
       "      <td>19.355807</td>\n",
       "      <td>15.952218</td>\n",
       "      <td>115.244002</td>\n",
       "      <td>7.884160</td>\n",
       "      <td>0.331329</td>\n",
       "      <td>11.760232</td>\n",
       "      <td>0.476951</td>\n",
       "    </tr>\n",
       "    <tr>\n",
       "      <th>min</th>\n",
       "      <td>0.000000</td>\n",
       "      <td>0.000000</td>\n",
       "      <td>0.000000</td>\n",
       "      <td>0.000000</td>\n",
       "      <td>0.000000</td>\n",
       "      <td>0.000000</td>\n",
       "      <td>0.078000</td>\n",
       "      <td>21.000000</td>\n",
       "      <td>0.000000</td>\n",
       "    </tr>\n",
       "    <tr>\n",
       "      <th>25%</th>\n",
       "      <td>1.000000</td>\n",
       "      <td>99.000000</td>\n",
       "      <td>62.000000</td>\n",
       "      <td>0.000000</td>\n",
       "      <td>0.000000</td>\n",
       "      <td>27.300000</td>\n",
       "      <td>0.243750</td>\n",
       "      <td>24.000000</td>\n",
       "      <td>0.000000</td>\n",
       "    </tr>\n",
       "    <tr>\n",
       "      <th>50%</th>\n",
       "      <td>3.000000</td>\n",
       "      <td>117.000000</td>\n",
       "      <td>72.000000</td>\n",
       "      <td>23.000000</td>\n",
       "      <td>30.500000</td>\n",
       "      <td>32.000000</td>\n",
       "      <td>0.372500</td>\n",
       "      <td>29.000000</td>\n",
       "      <td>0.000000</td>\n",
       "    </tr>\n",
       "    <tr>\n",
       "      <th>75%</th>\n",
       "      <td>6.000000</td>\n",
       "      <td>140.250000</td>\n",
       "      <td>80.000000</td>\n",
       "      <td>32.000000</td>\n",
       "      <td>127.250000</td>\n",
       "      <td>36.600000</td>\n",
       "      <td>0.626250</td>\n",
       "      <td>41.000000</td>\n",
       "      <td>1.000000</td>\n",
       "    </tr>\n",
       "    <tr>\n",
       "      <th>max</th>\n",
       "      <td>17.000000</td>\n",
       "      <td>199.000000</td>\n",
       "      <td>122.000000</td>\n",
       "      <td>99.000000</td>\n",
       "      <td>846.000000</td>\n",
       "      <td>67.100000</td>\n",
       "      <td>2.420000</td>\n",
       "      <td>81.000000</td>\n",
       "      <td>1.000000</td>\n",
       "    </tr>\n",
       "  </tbody>\n",
       "</table>\n",
       "</div>"
      ],
      "text/plain": [
       "       Pregnancies     Glucose  BloodPressure  SkinThickness     Insulin  \\\n",
       "count   768.000000  768.000000     768.000000     768.000000  768.000000   \n",
       "mean      3.845052  120.894531      69.105469      20.536458   79.799479   \n",
       "std       3.369578   31.972618      19.355807      15.952218  115.244002   \n",
       "min       0.000000    0.000000       0.000000       0.000000    0.000000   \n",
       "25%       1.000000   99.000000      62.000000       0.000000    0.000000   \n",
       "50%       3.000000  117.000000      72.000000      23.000000   30.500000   \n",
       "75%       6.000000  140.250000      80.000000      32.000000  127.250000   \n",
       "max      17.000000  199.000000     122.000000      99.000000  846.000000   \n",
       "\n",
       "              BMI  DiabetesPedigreeFunction         Age     Outcome  \n",
       "count  768.000000                768.000000  768.000000  768.000000  \n",
       "mean    31.992578                  0.471876   33.240885    0.348958  \n",
       "std      7.884160                  0.331329   11.760232    0.476951  \n",
       "min      0.000000                  0.078000   21.000000    0.000000  \n",
       "25%     27.300000                  0.243750   24.000000    0.000000  \n",
       "50%     32.000000                  0.372500   29.000000    0.000000  \n",
       "75%     36.600000                  0.626250   41.000000    1.000000  \n",
       "max     67.100000                  2.420000   81.000000    1.000000  "
      ]
     },
     "execution_count": 95,
     "metadata": {},
     "output_type": "execute_result"
    }
   ],
   "source": [
    "diabet_df.describe()"
   ]
  },
  {
   "cell_type": "code",
   "execution_count": 99,
   "id": "d9c6f42f",
   "metadata": {
    "ExecuteTime": {
     "end_time": "2022-09-29T08:30:45.679791Z",
     "start_time": "2022-09-29T08:30:45.651865Z"
    },
    "scrolled": true
   },
   "outputs": [
    {
     "data": {
      "text/html": [
       "<div>\n",
       "<style scoped>\n",
       "    .dataframe tbody tr th:only-of-type {\n",
       "        vertical-align: middle;\n",
       "    }\n",
       "\n",
       "    .dataframe tbody tr th {\n",
       "        vertical-align: top;\n",
       "    }\n",
       "\n",
       "    .dataframe thead th {\n",
       "        text-align: right;\n",
       "    }\n",
       "</style>\n",
       "<table border=\"1\" class=\"dataframe\">\n",
       "  <thead>\n",
       "    <tr style=\"text-align: right;\">\n",
       "      <th></th>\n",
       "      <th>Pregnancies</th>\n",
       "      <th>Glucose</th>\n",
       "      <th>BloodPressure</th>\n",
       "      <th>SkinThickness</th>\n",
       "      <th>Insulin</th>\n",
       "      <th>BMI</th>\n",
       "      <th>DiabetesPedigreeFunction</th>\n",
       "      <th>Age</th>\n",
       "    </tr>\n",
       "  </thead>\n",
       "  <tbody>\n",
       "    <tr>\n",
       "      <th>0</th>\n",
       "      <td>6</td>\n",
       "      <td>148</td>\n",
       "      <td>72</td>\n",
       "      <td>35</td>\n",
       "      <td>0</td>\n",
       "      <td>33.6</td>\n",
       "      <td>0.627</td>\n",
       "      <td>50</td>\n",
       "    </tr>\n",
       "    <tr>\n",
       "      <th>1</th>\n",
       "      <td>1</td>\n",
       "      <td>85</td>\n",
       "      <td>66</td>\n",
       "      <td>29</td>\n",
       "      <td>0</td>\n",
       "      <td>26.6</td>\n",
       "      <td>0.351</td>\n",
       "      <td>31</td>\n",
       "    </tr>\n",
       "    <tr>\n",
       "      <th>2</th>\n",
       "      <td>8</td>\n",
       "      <td>183</td>\n",
       "      <td>64</td>\n",
       "      <td>0</td>\n",
       "      <td>0</td>\n",
       "      <td>23.3</td>\n",
       "      <td>0.672</td>\n",
       "      <td>32</td>\n",
       "    </tr>\n",
       "    <tr>\n",
       "      <th>3</th>\n",
       "      <td>1</td>\n",
       "      <td>89</td>\n",
       "      <td>66</td>\n",
       "      <td>23</td>\n",
       "      <td>94</td>\n",
       "      <td>28.1</td>\n",
       "      <td>0.167</td>\n",
       "      <td>21</td>\n",
       "    </tr>\n",
       "    <tr>\n",
       "      <th>4</th>\n",
       "      <td>0</td>\n",
       "      <td>137</td>\n",
       "      <td>40</td>\n",
       "      <td>35</td>\n",
       "      <td>168</td>\n",
       "      <td>43.1</td>\n",
       "      <td>2.288</td>\n",
       "      <td>33</td>\n",
       "    </tr>\n",
       "    <tr>\n",
       "      <th>...</th>\n",
       "      <td>...</td>\n",
       "      <td>...</td>\n",
       "      <td>...</td>\n",
       "      <td>...</td>\n",
       "      <td>...</td>\n",
       "      <td>...</td>\n",
       "      <td>...</td>\n",
       "      <td>...</td>\n",
       "    </tr>\n",
       "    <tr>\n",
       "      <th>763</th>\n",
       "      <td>10</td>\n",
       "      <td>101</td>\n",
       "      <td>76</td>\n",
       "      <td>48</td>\n",
       "      <td>180</td>\n",
       "      <td>32.9</td>\n",
       "      <td>0.171</td>\n",
       "      <td>63</td>\n",
       "    </tr>\n",
       "    <tr>\n",
       "      <th>764</th>\n",
       "      <td>2</td>\n",
       "      <td>122</td>\n",
       "      <td>70</td>\n",
       "      <td>27</td>\n",
       "      <td>0</td>\n",
       "      <td>36.8</td>\n",
       "      <td>0.340</td>\n",
       "      <td>27</td>\n",
       "    </tr>\n",
       "    <tr>\n",
       "      <th>765</th>\n",
       "      <td>5</td>\n",
       "      <td>121</td>\n",
       "      <td>72</td>\n",
       "      <td>23</td>\n",
       "      <td>112</td>\n",
       "      <td>26.2</td>\n",
       "      <td>0.245</td>\n",
       "      <td>30</td>\n",
       "    </tr>\n",
       "    <tr>\n",
       "      <th>766</th>\n",
       "      <td>1</td>\n",
       "      <td>126</td>\n",
       "      <td>60</td>\n",
       "      <td>0</td>\n",
       "      <td>0</td>\n",
       "      <td>30.1</td>\n",
       "      <td>0.349</td>\n",
       "      <td>47</td>\n",
       "    </tr>\n",
       "    <tr>\n",
       "      <th>767</th>\n",
       "      <td>1</td>\n",
       "      <td>93</td>\n",
       "      <td>70</td>\n",
       "      <td>31</td>\n",
       "      <td>0</td>\n",
       "      <td>30.4</td>\n",
       "      <td>0.315</td>\n",
       "      <td>23</td>\n",
       "    </tr>\n",
       "  </tbody>\n",
       "</table>\n",
       "<p>768 rows × 8 columns</p>\n",
       "</div>"
      ],
      "text/plain": [
       "     Pregnancies  Glucose  BloodPressure  SkinThickness  Insulin   BMI  \\\n",
       "0              6      148             72             35        0  33.6   \n",
       "1              1       85             66             29        0  26.6   \n",
       "2              8      183             64              0        0  23.3   \n",
       "3              1       89             66             23       94  28.1   \n",
       "4              0      137             40             35      168  43.1   \n",
       "..           ...      ...            ...            ...      ...   ...   \n",
       "763           10      101             76             48      180  32.9   \n",
       "764            2      122             70             27        0  36.8   \n",
       "765            5      121             72             23      112  26.2   \n",
       "766            1      126             60              0        0  30.1   \n",
       "767            1       93             70             31        0  30.4   \n",
       "\n",
       "     DiabetesPedigreeFunction  Age  \n",
       "0                       0.627   50  \n",
       "1                       0.351   31  \n",
       "2                       0.672   32  \n",
       "3                       0.167   21  \n",
       "4                       2.288   33  \n",
       "..                        ...  ...  \n",
       "763                     0.171   63  \n",
       "764                     0.340   27  \n",
       "765                     0.245   30  \n",
       "766                     0.349   47  \n",
       "767                     0.315   23  \n",
       "\n",
       "[768 rows x 8 columns]"
      ]
     },
     "execution_count": 99,
     "metadata": {},
     "output_type": "execute_result"
    }
   ],
   "source": [
    "features =diabet_df.drop('Outcome', axis =1)\n",
    "label = diabet_df['Outcome']\n",
    "features\n",
    "\n",
    "\n",
    "\n"
   ]
  },
  {
   "cell_type": "code",
   "execution_count": 100,
   "id": "57cadbf5",
   "metadata": {
    "ExecuteTime": {
     "end_time": "2022-09-29T08:30:50.442733Z",
     "start_time": "2022-09-29T08:30:50.291171Z"
    }
   },
   "outputs": [
    {
     "name": "stdout",
     "output_type": "stream",
     "text": [
      "테스트 데이터 세트 정확도; 0.7727\n"
     ]
    }
   ],
   "source": [
    "X_train, X_test, y_train, y_test = train_test_split(features, label, test_size=0.2, random_state=121)\n",
    "dtree = DecisionTreeClassifier()\n",
    "\n",
    "# parameter들을 dictionary형태로 설정 \n",
    "\n",
    "parameters = {'max_depth' : [1,2,3], 'min_samples_split' : [2,3]}\n",
    "grid_dtree = GridSearchCV(dtree, param_grid=parameters, cv=3, refit=True)\n",
    "\n",
    "grid_dtree.fit(X_train, y_train)\n",
    "\n",
    "# GridSearchCV 결과 추출하여 DataFrame으로 변환\n",
    "\n",
    "scores_df = pd.DataFrame(grid_dtree.cv_results_)\n",
    "\n",
    "scores_df[['params', 'mean_test_score', 'rank_test_score', \\\n",
    "           'split0_test_score', 'split1_test_score', 'split2_test_score']]\n",
    "\n",
    "estimator = grid_dtree.best_estimator_\n",
    "\n",
    "pred = estimator.predict(X_test)\n",
    "print('테스트 데이터 세트 정확도; {0:.4f}'.format(accuracy_score(y_test, pred)))"
   ]
  },
  {
   "cell_type": "code",
   "execution_count": 104,
   "id": "592d190e",
   "metadata": {
    "ExecuteTime": {
     "end_time": "2022-09-29T08:35:33.408093Z",
     "start_time": "2022-09-29T08:35:33.386151Z"
    }
   },
   "outputs": [
    {
     "data": {
      "text/plain": [
       "array([ 6.  , 96.  ,  0.  ,  0.  ,  0.  , 23.7 ,  0.19, 28.  ])"
      ]
     },
     "execution_count": 104,
     "metadata": {},
     "output_type": "execute_result"
    }
   ],
   "source": [
    "import numpy as np\n",
    "\n",
    "test = X_test.iloc[0, :]\n",
    "np.array(list(test))"
   ]
  },
  {
   "cell_type": "code",
   "execution_count": 102,
   "id": "5b94833d",
   "metadata": {
    "ExecuteTime": {
     "end_time": "2022-09-29T08:31:59.402824Z",
     "start_time": "2022-09-29T08:31:59.381881Z"
    }
   },
   "outputs": [
    {
     "data": {
      "text/plain": [
       "601    0\n",
       "224    0\n",
       "766    1\n",
       "17     1\n",
       "369    1\n",
       "      ..\n",
       "479    0\n",
       "283    1\n",
       "554    0\n",
       "688    0\n",
       "81     0\n",
       "Name: Outcome, Length: 154, dtype: int64"
      ]
     },
     "execution_count": 102,
     "metadata": {},
     "output_type": "execute_result"
    }
   ],
   "source": [
    "y_test"
   ]
  },
  {
   "cell_type": "code",
   "execution_count": null,
   "id": "12bad29b",
   "metadata": {},
   "outputs": [],
   "source": []
  }
 ],
 "metadata": {
  "kernelspec": {
   "display_name": "Python 3 (ipykernel)",
   "language": "python",
   "name": "python3"
  },
  "language_info": {
   "codemirror_mode": {
    "name": "ipython",
    "version": 3
   },
   "file_extension": ".py",
   "mimetype": "text/x-python",
   "name": "python",
   "nbconvert_exporter": "python",
   "pygments_lexer": "ipython3",
   "version": "3.8.7"
  },
  "toc": {
   "base_numbering": 1,
   "nav_menu": {},
   "number_sections": true,
   "sideBar": true,
   "skip_h1_title": false,
   "title_cell": "Table of Contents",
   "title_sidebar": "Contents",
   "toc_cell": false,
   "toc_position": {},
   "toc_section_display": true,
   "toc_window_display": false
  },
  "varInspector": {
   "cols": {
    "lenName": 16,
    "lenType": 16,
    "lenVar": 40
   },
   "kernels_config": {
    "python": {
     "delete_cmd_postfix": "",
     "delete_cmd_prefix": "del ",
     "library": "var_list.py",
     "varRefreshCmd": "print(var_dic_list())"
    },
    "r": {
     "delete_cmd_postfix": ") ",
     "delete_cmd_prefix": "rm(",
     "library": "var_list.r",
     "varRefreshCmd": "cat(var_dic_list()) "
    }
   },
   "types_to_exclude": [
    "module",
    "function",
    "builtin_function_or_method",
    "instance",
    "_Feature"
   ],
   "window_display": false
  }
 },
 "nbformat": 4,
 "nbformat_minor": 5
}
