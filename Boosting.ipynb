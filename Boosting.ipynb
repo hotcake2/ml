{
 "cells": [
  {
   "cell_type": "markdown",
   "id": "62aa234d",
   "metadata": {
    "ExecuteTime": {
     "end_time": "2022-10-06T00:59:08.579420Z",
     "start_time": "2022-10-06T00:59:08.557448Z"
    }
   },
   "source": [
    "#### sklearn.ensemble.GradientBoostingClassifier\n",
    "\n",
    "* class sklearn.ensemble.GradientBoostingClassifier(*, loss='log_loss', learning_rate=0.1, n_estimators=100, subsample=1.0, criterion='friedman_mse', min_samples_split=2, min_samples_leaf=1, min_weight_fraction_leaf=0.0, max_depth=3, min_impurity_decrease=0.0, init=None, random_state=None, max_features=None, verbose=0, max_leaf_nodes=None, warm_start=False, validation_fraction=0.1, n_iter_no_change=None, tol=0.0001, ccp_alpha=0.0)"
   ]
  },
  {
   "cell_type": "code",
   "execution_count": 13,
   "id": "d2f9bb75",
   "metadata": {
    "ExecuteTime": {
     "end_time": "2022-10-07T00:14:27.111885Z",
     "start_time": "2022-10-07T00:14:21.990459Z"
    },
    "scrolled": true
   },
   "outputs": [
    {
     "name": "stdout",
     "output_type": "stream",
     "text": [
      "전체 피처명에서 10개만 추출: ['tBodyAcc-mean()-X', 'tBodyAcc-mean()-Y', 'tBodyAcc-mean()-Z', 'tBodyAcc-std()-X', 'tBodyAcc-std()-Y', 'tBodyAcc-std()-Z', 'tBodyAcc-mad()-X', 'tBodyAcc-mad()-Y', 'tBodyAcc-mad()-Z', 'tBodyAcc-max()-X']\n"
     ]
    }
   ],
   "source": [
    "from sklearn.metrics import accuracy_score\n",
    "import warnings\n",
    "import pandas as pd\n",
    "import matplotlib.pyplot as plt\n",
    "import numpy as np\n",
    "%matplotlib inline\n",
    "warnings.filterwarnings('ignore')\n",
    "\n",
    "# features.txt 파일에는 피처 이름 index와 피처명이 공백으로 분리되어 있음. 이를 DataFrame으로 로드.\n",
    "feature_name_df = pd.read_csv('./datasets/human_activity/features.txt',sep='\\s+', header=None,\n",
    "                             names=['column_index', 'column_name'])\n",
    "# feature_name_df\n",
    "# # 피처명 index를 제거하고, 피처명만 리스트 객체로 생성한 뒤 샘플로 10개만 추출\n",
    "feature_name = feature_name_df.iloc[:, 1].values.tolist()\n",
    "print('전체 피처명에서 10개만 추출:', feature_name[:10])"
   ]
  },
  {
   "cell_type": "code",
   "execution_count": 14,
   "id": "f31b4aa5",
   "metadata": {
    "ExecuteTime": {
     "end_time": "2022-10-07T00:14:27.158727Z",
     "start_time": "2022-10-07T00:14:27.148761Z"
    }
   },
   "outputs": [],
   "source": [
    "def get_new_feature_name_df(old_feature_name_df):\n",
    "    feature_dup_df = pd.DataFrame(data=old_feature_name_df.groupby('column_name').cumcount(),\n",
    "                                 columns=['dup_cnt'])\n",
    "    feature_dup_df = feature_dup_df.reset_index()\n",
    "    new_feature_name_df = pd.merge(old_feature_name_df.reset_index(), feature_dup_df, how='outer')\n",
    "    new_feature_name_df['column_name'] = new_feature_name_df[['column_name', 'dup_cnt']].apply(lambda x : \n",
    "                                            x[0]+'-'+str(x[1])if x[1] >0 else x[0] , axis=1)\n",
    "    \n",
    "    new_feature_name_df = new_feature_name_df.drop(['index'], axis=1)\n",
    "    return new_feature_name_df"
   ]
  },
  {
   "cell_type": "code",
   "execution_count": 15,
   "id": "d3e4bc2e",
   "metadata": {
    "ExecuteTime": {
     "end_time": "2022-10-07T00:14:33.040121Z",
     "start_time": "2022-10-07T00:14:27.730798Z"
    }
   },
   "outputs": [],
   "source": [
    "def get_human_dataset():\n",
    "    # 각 데이터 파일들은 공백으로 분리되어 있으므로 read_csv에서 공백 문자를 sep으로 할당.\n",
    "    feature_name_df = pd.read_csv('./datasets/human_activity/features.txt', sep='\\s+',\n",
    "                                 header=None,names=['column_index','column_name'])\n",
    "    \n",
    "    # 중복된 피처명을 수정하는 get_new_feature_name_df()를 이용, 신규 피처명 DataFrame생성.\n",
    "    new_feature_name_df = get_new_feature_name_df(feature_name_df)\n",
    "    \n",
    "    #DataFrame에 피처명을 컬럼으로 부여하기 위해 리스트 객체로 다시 변환\n",
    "    feature_name = new_feature_name_df.iloc[:, 1].values.tolist()\n",
    "    \n",
    "    #학습 피처 데이터 셋과 테스트 피처 데이터를 DataFrame으로 로딩. 컬럼명은 feature_name으로 적용\n",
    "    X_train = pd.read_csv('./datasets/human_activity/X_train.txt', sep='\\s+', names=feature_name)\n",
    "    X_test = pd.read_csv('./datasets/human_activity/X_test.txt', sep='\\s+' , names=feature_name)\n",
    "    \n",
    "    # 학습 레이블과 테스트 레이블 데이터를 DataFrame으로 로딩하고 컬럼명은 action으로 부여.\n",
    "    y_train = pd.read_csv('./datasets/human_activity/y_train.txt' , sep='\\s+', header=None, names=['action'])\n",
    "    y_test = pd.read_csv('./datasets/human_activity/y_test.txt', sep='\\s+', header=None, names=['action'])\n",
    "\n",
    "    # 로드된 학습/테스트용 DataFrame을 모두 반환\n",
    "    return X_train, X_test, y_train, y_test\n",
    "\n",
    "X_train, X_test, y_train, y_test = get_human_dataset()"
   ]
  },
  {
   "cell_type": "code",
   "execution_count": null,
   "id": "82735596",
   "metadata": {
    "ExecuteTime": {
     "start_time": "2022-10-07T00:14:28.466Z"
    }
   },
   "outputs": [],
   "source": [
    "from sklearn.ensemble import GradientBoostingClassifier\n",
    "import time\n",
    "import warnings\n",
    "\n",
    "\n",
    "warnings.filterwarnings('ignore')\n",
    "X_train, X_test, y_train, y_test = get_human_dataset()\n",
    "start_time = time.time()\n",
    "gb_clf = GradientBoostingClassifier(random_state=0)\n",
    "gb_clf.fit(X_train,y_train)\n",
    "gb_pred = gb_clf.predict(X_test)\n",
    "gb_accuracy = accuracy_score(y_test, gb_pred)\n",
    "print(gb_accuracy)\n",
    "print(time.time() - start_time)"
   ]
  },
  {
   "cell_type": "code",
   "execution_count": null,
   "id": "577cffc4",
   "metadata": {
    "ExecuteTime": {
     "start_time": "2022-10-07T00:14:28.925Z"
    }
   },
   "outputs": [],
   "source": [
    "from sklearn.preprocessing import LabelEncoder\n",
    "\n",
    "le = LabelEncoder()\n",
    "y_train = le.fit_transform(y_train)\n",
    "pd.Series(y_train)\n",
    "\n",
    "\n",
    "y_test = le.fit_transform(y_test)\n",
    "pd.Series(y_test)\n",
    "\n"
   ]
  },
  {
   "cell_type": "code",
   "execution_count": null,
   "id": "96f87844",
   "metadata": {
    "ExecuteTime": {
     "start_time": "2022-10-07T00:14:29.352Z"
    }
   },
   "outputs": [],
   "source": [
    "from xgboost import XGBClassifier\n",
    "\n",
    "# 모델 선언 예시\n",
    "model = XGBClassifier(n_estimators=500, learning_rate=0.2, max_depth=4, random_state = 32)\n",
    "\n",
    "model.fit(X_train, y_train)\n",
    "\n",
    "y_pred = model.predict(X_test) # 예측 라벨(0과 1로 예측)\n",
    "\n",
    "# 예측 라벨과 실제 라벨 사이의 정확도 측정\n",
    "accuracy_score(y_pred, y_test) # 0.7847533632286996"
   ]
  },
  {
   "cell_type": "markdown",
   "id": "b8fe9601",
   "metadata": {},
   "source": []
  },
  {
   "cell_type": "code",
   "execution_count": null,
   "id": "9aed62f9",
   "metadata": {
    "ExecuteTime": {
     "start_time": "2022-10-07T00:14:30.878Z"
    }
   },
   "outputs": [],
   "source": [
    "# 코딩으로 경사하강법 구현\n",
    "\n",
    "import numpy as np\n",
    "import matplotlib.pylab as plt\n",
    "%matplotlib inline\n",
    "np.random.seed(0)\n",
    "\n",
    "# y = 4X +6 식을 근사\n",
    "X = 2*np.random.rand(100,1)\n",
    "y = 6 + 4*X + np.random.randn(100,1)\n",
    "\n",
    "print(len(X))\n",
    "X\n"
   ]
  },
  {
   "cell_type": "code",
   "execution_count": null,
   "id": "2924d061",
   "metadata": {
    "ExecuteTime": {
     "start_time": "2022-10-07T00:14:31.403Z"
    }
   },
   "outputs": [],
   "source": [
    "print(len(y))\n",
    "y\n"
   ]
  },
  {
   "cell_type": "code",
   "execution_count": null,
   "id": "e981ada9",
   "metadata": {
    "ExecuteTime": {
     "start_time": "2022-10-07T00:14:32.041Z"
    }
   },
   "outputs": [],
   "source": [
    "plt.scatter(X, y)"
   ]
  },
  {
   "cell_type": "code",
   "execution_count": null,
   "id": "e4689384",
   "metadata": {
    "ExecuteTime": {
     "start_time": "2022-10-07T00:14:33.222Z"
    }
   },
   "outputs": [],
   "source": [
    "def get_weight_updates(w1, w0, X, y, learning_rate=0.01):\n",
    "    N = len(y)\n",
    "    w1_update = np.zeros_like(w1)\n",
    "    w0_update = np.zeros_like(w0)\n",
    "    y_pred = np.dot(X, wl.T) + w0\n",
    "    diff = y-y_pred\n",
    "    \n",
    "    w0_factors = np.ones((N,1))\n",
    "    W1_update = -(2/N)*learning_rate*(np.dot(X.T,diff))\n",
    "    w0_update = -(2/N)*learning_rate*(np.dot(W0_factors.T, diff))\n",
    "    \n",
    "    retrun w1_update, w0_update\n",
    "    "
   ]
  },
  {
   "cell_type": "code",
   "execution_count": null,
   "id": "2542e978",
   "metadata": {},
   "outputs": [],
   "source": []
  }
 ],
 "metadata": {
  "kernelspec": {
   "display_name": "Python 3 (ipykernel)",
   "language": "python",
   "name": "python3"
  },
  "language_info": {
   "codemirror_mode": {
    "name": "ipython",
    "version": 3
   },
   "file_extension": ".py",
   "mimetype": "text/x-python",
   "name": "python",
   "nbconvert_exporter": "python",
   "pygments_lexer": "ipython3",
   "version": "3.8.7"
  },
  "toc": {
   "base_numbering": 1,
   "nav_menu": {},
   "number_sections": true,
   "sideBar": true,
   "skip_h1_title": false,
   "title_cell": "Table of Contents",
   "title_sidebar": "Contents",
   "toc_cell": false,
   "toc_position": {},
   "toc_section_display": true,
   "toc_window_display": false
  },
  "varInspector": {
   "cols": {
    "lenName": 16,
    "lenType": 16,
    "lenVar": 40
   },
   "kernels_config": {
    "python": {
     "delete_cmd_postfix": "",
     "delete_cmd_prefix": "del ",
     "library": "var_list.py",
     "varRefreshCmd": "print(var_dic_list())"
    },
    "r": {
     "delete_cmd_postfix": ") ",
     "delete_cmd_prefix": "rm(",
     "library": "var_list.r",
     "varRefreshCmd": "cat(var_dic_list()) "
    }
   },
   "types_to_exclude": [
    "module",
    "function",
    "builtin_function_or_method",
    "instance",
    "_Feature"
   ],
   "window_display": false
  }
 },
 "nbformat": 4,
 "nbformat_minor": 5
}
